{
 "metadata": {
  "language_info": {
   "codemirror_mode": {
    "name": "ipython",
    "version": 3
   },
   "file_extension": ".py",
   "mimetype": "text/x-python",
   "name": "python",
   "nbconvert_exporter": "python",
   "pygments_lexer": "ipython3",
   "version": "3.8.2-final"
  },
  "orig_nbformat": 2,
  "kernelspec": {
   "name": "Python 3.8.2 64-bit",
   "display_name": "Python 3.8.2 64-bit",
   "metadata": {
    "interpreter": {
     "hash": "5bc877fb0aeff99aa89c0dd4d07157fde21d2287bad2449416085c8ae3bbc527"
    }
   }
  }
 },
 "nbformat": 4,
 "nbformat_minor": 2,
 "cells": [
  {
   "cell_type": "code",
   "execution_count": 1,
   "metadata": {
    "tags": []
   },
   "outputs": [],
   "source": [
    "import os\n",
    "import pandas as pd\n",
    "import numpy as np\n",
    "from shutil import copy"
   ]
  },
  {
   "cell_type": "code",
   "execution_count": 2,
   "metadata": {},
   "outputs": [],
   "source": [
    "labels = pd.read_csv('data/labels.csv')"
   ]
  },
  {
   "cell_type": "code",
   "execution_count": 3,
   "metadata": {},
   "outputs": [],
   "source": [
    "if not os.path.exists('data/train_filtered'):\n",
    "    os.mkdir('data/train_filtered')\n",
    "\n",
    "if not os.path.exists('data/val_filtered'):\n",
    "    os.mkdir('data/val_filtered')"
   ]
  },
  {
   "cell_type": "code",
   "execution_count": 4,
   "metadata": {
    "tags": []
   },
   "outputs": [
    {
     "output_type": "stream",
     "name": "stdout",
     "text": "120\n"
    }
   ],
   "source": [
    "breeds = labels['breed']\n",
    "#breeds = np.array(breeds)\n",
    "breeds = set(breeds)\n",
    "print(len(breeds))"
   ]
  },
  {
   "cell_type": "code",
   "execution_count": 5,
   "metadata": {
    "tags": []
   },
   "outputs": [],
   "source": [
    "for i in breeds:\n",
    "    if not os.path.exists(os.path.join('data/train_filtered',i)):\n",
    "        os.mkdir(os.path.join('data/train_filtered',i))\n",
    "    \n",
    "    if not os.path.exists(os.path.join('data/val_filtered',i)):\n",
    "        os.mkdir(os.path.join('data/val_filtered',i))\n"
   ]
  },
  {
   "cell_type": "code",
   "execution_count": 6,
   "metadata": {
    "tags": []
   },
   "outputs": [
    {
     "output_type": "stream",
     "name": "stdout",
     "text": "8177\n"
    }
   ],
   "source": [
    "count = 0\n",
    "part = int(0.8*len(labels))\n",
    "\n",
    "dest = 'data/train_filtered'\n",
    "\n",
    "print(part)\n",
    "\n",
    "for i in range(len(labels)):\n",
    "    file_name = labels.iloc[i,0]\n",
    "    file_name = file_name + '.jpg'\n",
    "    name = labels.iloc[i,1]\n",
    "    if count > part:\n",
    "        dest = 'data/val_filtered'\n",
    "    copy(os.path.join('data/train',file_name),os.path.join(dest,name))\n",
    "    count = count + 1"
   ]
  },
  {
   "cell_type": "code",
   "execution_count": null,
   "metadata": {},
   "outputs": [],
   "source": []
  }
 ]
}