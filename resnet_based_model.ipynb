{
 "metadata": {
  "language_info": {
   "codemirror_mode": {
    "name": "ipython",
    "version": 3
   },
   "file_extension": ".py",
   "mimetype": "text/x-python",
   "name": "python",
   "nbconvert_exporter": "python",
   "pygments_lexer": "ipython3",
   "version": "3.8.2-final"
  },
  "orig_nbformat": 2,
  "kernelspec": {
   "name": "Python 3.8.2 64-bit",
   "display_name": "Python 3.8.2 64-bit",
   "metadata": {
    "interpreter": {
     "hash": "5bc877fb0aeff99aa89c0dd4d07157fde21d2287bad2449416085c8ae3bbc527"
    }
   }
  }
 },
 "nbformat": 4,
 "nbformat_minor": 2,
 "cells": [
  {
   "source": [
    "<b>Importing Librabries</b>"
   ],
   "cell_type": "markdown",
   "metadata": {}
  },
  {
   "cell_type": "code",
   "execution_count": 16,
   "metadata": {},
   "outputs": [],
   "source": [
    "import tensorflow as tf\n",
    "import cv2 as cv\n",
    "import os\n",
    "from keras.layers import Dropout,Conv2D,Flatten,MaxPooling2D,Dense\n",
    "from keras.models import Sequential,Model\n",
    "from keras.applications import ResNet50V2\n",
    "from keras.optimizers import RMSprop,Adam\n",
    "from keras.callbacks import ModelCheckpoint,EarlyStopping,ReduceLROnPlateau"
   ]
  },
  {
   "source": [
    "<b>Defining Hyper Parameters</b>"
   ],
   "cell_type": "markdown",
   "metadata": {}
  },
  {
   "cell_type": "code",
   "execution_count": 6,
   "metadata": {},
   "outputs": [],
   "source": [
    "params = {\n",
    "    'TRAIN_DATASET':'data/train_filtered',\n",
    "    'VAL_DATASET':'data/val_filtered',\n",
    "    'epochs':10,\n",
    "    'batch_size':16,\n",
    "    'target_size':[256,256]\n",
    "}"
   ]
  },
  {
   "source": [
    "<b>Applying Image Augmentation and Preprocessing</b>\n"
   ],
   "cell_type": "markdown",
   "metadata": {}
  },
  {
   "cell_type": "code",
   "execution_count": 7,
   "metadata": {},
   "outputs": [],
   "source": [
    "train_datagen = tf.keras.preprocessing.image.ImageDataGenerator(\n",
    "    rotation_range=40,\n",
    "    width_shift_range=0.2,\n",
    "    height_shift_range=0.2,\n",
    "    shear_range=0.2,\n",
    "    zoom_range=0.3,\n",
    "    channel_shift_range=0.3,\n",
    "    fill_mode=\"nearest\",\n",
    "    horizontal_flip=True,\n",
    "    vertical_flip=True,\n",
    "    rescale=1. / 255,\n",
    ")\n",
    "\n",
    "val_datagen =  tf.keras.preprocessing.image.ImageDataGenerator(\n",
    "    rescale=1. / 255,\n",
    ")"
   ]
  },
  {
   "cell_type": "code",
   "execution_count": 9,
   "metadata": {
    "tags": []
   },
   "outputs": [
    {
     "output_type": "stream",
     "name": "stdout",
     "text": "Found 8178 images belonging to 120 classes.\nFound 2044 images belonging to 120 classes.\n"
    }
   ],
   "source": [
    "train = train_datagen.flow_from_directory(\n",
    "    directory = params['TRAIN_DATASET'],\n",
    "    target_size=params['target_size'],\n",
    "    class_mode='categorical',\n",
    "    shuffle=True,\n",
    "    batch_size=params['batch_size']\n",
    ")\n",
    "\n",
    "validation = train_datagen.flow_from_directory(\n",
    "    directory = params['VAL_DATASET'],\n",
    "    target_size=params['target_size'],\n",
    "    class_mode='categorical',\n",
    "    shuffle=True,\n",
    "    batch_size=params['batch_size']\n",
    ")"
   ]
  },
  {
   "source": [
    "<b>Setting Up ResNet50V2 Model for Transfer Learning</b>"
   ],
   "cell_type": "markdown",
   "metadata": {}
  },
  {
   "cell_type": "code",
   "execution_count": 10,
   "metadata": {
    "tags": []
   },
   "outputs": [
    {
     "output_type": "stream",
     "name": "stdout",
     "text": "Downloading data from https://github.com/keras-team/keras-applications/releases/download/resnet/resnet50v2_weights_tf_dim_ordering_tf_kernels_notop.h5\n94674944/94668760 [==============================] - 278s 3us/step\n"
    }
   ],
   "source": [
    "resnet_model = ResNet50V2(\n",
    "    input_shape=(params['target_size'][0], params['target_size'][1], 3),\n",
    "    include_top=False,\n",
    "    weights=\"imagenet\"\n",
    ")"
   ]
  },
  {
   "cell_type": "code",
   "execution_count": 12,
   "metadata": {},
   "outputs": [],
   "source": [
    "for layer in resnet_model.layers:\n",
    "    layer.trainable = False "
   ]
  },
  {
   "source": [
    "<b>Adding Dense Layer at the bottom of ResNet50V2 Model</b>"
   ],
   "cell_type": "markdown",
   "metadata": {}
  },
  {
   "cell_type": "code",
   "execution_count": 14,
   "metadata": {},
   "outputs": [],
   "source": [
    "last_layer = resnet_model.output\n",
    "\n",
    "last_layer = Flatten()(last_layer)\n",
    "last_layer = Dense(512,activation='relu')(last_layer)\n",
    "last_layer = Dropout(0.35)(last_layer)\n",
    "last_layer = Dense(256,activation=tf.nn.relu)(last_layer)\n",
    "last_layer = Dropout(0.2)(last_layer)\n",
    "last_layer = Dense(64,activation='relu')(last_layer)\n",
    "last_layer = Dense(120,activation='softmax')(last_layer)\n",
    "\n",
    "model = Model(resnet_model.input, last_layer)#first layer,last layer"
   ]
  },
  {
   "source": [
    "<b>Configuring Model with callbacks and other hyper parameter</b>"
   ],
   "cell_type": "markdown",
   "metadata": {}
  },
  {
   "cell_type": "code",
   "execution_count": 17,
   "metadata": {},
   "outputs": [],
   "source": [
    "checkpoint = ModelCheckpoint(\n",
    "                             'Model/emotion_face_mobilNet.h5',\n",
    "                             monitor='val_loss',\n",
    "                             mode='min',\n",
    "                             save_best_only=True,\n",
    "                             verbose=1)\n",
    "\n",
    "earlystop = EarlyStopping(\n",
    "                          monitor='val_loss',\n",
    "                          min_delta=0,\n",
    "                          patience=10,\n",
    "                          verbose=1,restore_best_weights=True)\n",
    "\n",
    "learning_rate_reduction = ReduceLROnPlateau(monitor='val_accuracy', \n",
    "                                            patience=5, \n",
    "                                            verbose=1, \n",
    "                                            factor=0.2, \n",
    "                                            min_lr=0.0001)\n",
    "\n",
    "callbacks = [earlystop,checkpoint,learning_rate_reduction]"
   ]
  },
  {
   "cell_type": "code",
   "execution_count": null,
   "metadata": {},
   "outputs": [],
   "source": [
    "model.compile(optimizer = 'adam', \n",
    "              loss='categorical_crossentropy',\n",
    "             metrics=['accuracy'])"
   ]
  },
  {
   "cell_type": "code",
   "execution_count": null,
   "metadata": {},
   "outputs": [],
   "source": [
    "history = model.fit_generator(\n",
    "    train,\n",
    "    epochs=params['epochs'],\n",
    "    validation_data=validation,\n",
    "    callbacks=callbacks\n",
    ")"
   ]
  }
 ]
}